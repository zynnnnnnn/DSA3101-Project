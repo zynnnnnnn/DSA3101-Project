{
 "cells": [
  {
   "cell_type": "code",
   "execution_count": null,
   "metadata": {
    "colab": {
     "base_uri": "https://localhost:8080/",
     "height": 108,
     "resources": {
      "http://localhost:8080/nbextensions/google.colab/files.js": {
       "data": "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",
       "headers": [
        [
         "content-type",
         "application/javascript"
        ]
       ],
       "ok": true,
       "status": 200,
       "status_text": ""
      }
     }
    },
    "id": "-vp2E01U_T1N",
    "outputId": "f7911d80-417a-48bd-8f77-2c8d7b9e27f1"
   },
   "outputs": [
    {
     "data": {
      "text/html": [
       "\n",
       "     <input type=\"file\" id=\"files-dd8dd125-7a8c-4b16-9b84-d4af3ffd58de\" name=\"files[]\" multiple disabled\n",
       "        style=\"border:none\" />\n",
       "     <output id=\"result-dd8dd125-7a8c-4b16-9b84-d4af3ffd58de\">\n",
       "      Upload widget is only available when the cell has been executed in the\n",
       "      current browser session. Please rerun this cell to enable.\n",
       "      </output>\n",
       "      <script src=\"/nbextensions/google.colab/files.js\"></script> "
      ],
      "text/plain": [
       "<IPython.core.display.HTML object>"
      ]
     },
     "metadata": {},
     "output_type": "display_data"
    },
    {
     "name": "stdout",
     "output_type": "stream",
     "text": [
      "Saving 2aug.csv to 2aug.csv\n",
      "Saving covid_with_y_values.csv to covid_with_y_values.csv\n"
     ]
    }
   ],
   "source": [
    "from google.colab import files\n",
    "uploaded = files.upload()"
   ]
  },
  {
   "cell_type": "code",
   "execution_count": null,
   "metadata": {
    "id": "directed-consideration"
   },
   "outputs": [],
   "source": [
    "import pandas as pd\n",
    "import numpy as np\n",
    "import io\n",
    "from xgboost import XGBClassifier, plot_importance, plot_tree\n",
    "from sklearn.ensemble import RandomForestClassifier\n",
    "import matplotlib.pyplot as plt\n",
    "import datetime\n",
    "from sklearn.metrics import accuracy_score,f1_score,precision_score,roc_auc_score,recall_score,confusion_matrix\n",
    "from sklearn.model_selection import train_test_split\n",
    "import graphviz\n"
   ]
  },
  {
   "cell_type": "code",
   "execution_count": null,
   "metadata": {
    "id": "brave-ukraine"
   },
   "outputs": [],
   "source": [
    "df = pd.read_csv(io.BytesIO(uploaded['covid_with_y_values.csv']), usecols=range(3,30)) #remove 1st to third column"
   ]
  },
  {
   "cell_type": "code",
   "execution_count": null,
   "metadata": {
    "colab": {
     "base_uri": "https://localhost:8080/",
     "height": 224
    },
    "id": "capable-experiment",
    "outputId": "565af44b-ed38-413c-b75c-052ce1589078",
    "scrolled": true
   },
   "outputs": [
    {
     "data": {
      "text/html": [
       "<div>\n",
       "<style scoped>\n",
       "    .dataframe tbody tr th:only-of-type {\n",
       "        vertical-align: middle;\n",
       "    }\n",
       "\n",
       "    .dataframe tbody tr th {\n",
       "        vertical-align: top;\n",
       "    }\n",
       "\n",
       "    .dataframe thead th {\n",
       "        text-align: right;\n",
       "    }\n",
       "</style>\n",
       "<table border=\"1\" class=\"dataframe\">\n",
       "  <thead>\n",
       "    <tr style=\"text-align: right;\">\n",
       "      <th></th>\n",
       "      <th>Date</th>\n",
       "      <th>school_closures</th>\n",
       "      <th>international_travel_controls</th>\n",
       "      <th>restriction_gatherings</th>\n",
       "      <th>cancel_public_events</th>\n",
       "      <th>public_information_campaigns</th>\n",
       "      <th>restrictions_internal_movements</th>\n",
       "      <th>income_support</th>\n",
       "      <th>facial_coverings</th>\n",
       "      <th>vaccination_policy</th>\n",
       "      <th>testing_policy</th>\n",
       "      <th>contact_tracing</th>\n",
       "      <th>new_cases_smoothed_per_million</th>\n",
       "      <th>new_deaths_smoothed_per_million</th>\n",
       "      <th>new_vaccinations_smoothed_per_million</th>\n",
       "      <th>population</th>\n",
       "      <th>population_density</th>\n",
       "      <th>median_age</th>\n",
       "      <th>aged_65_older</th>\n",
       "      <th>gdp_per_capita</th>\n",
       "      <th>cardiovasc_death_rate</th>\n",
       "      <th>diabetes_prevalence</th>\n",
       "      <th>hospital_beds_per_thousand</th>\n",
       "      <th>life_expectancy</th>\n",
       "      <th>human_development_index</th>\n",
       "      <th>international_travel_controls_binary</th>\n",
       "      <th>probability_open</th>\n",
       "    </tr>\n",
       "  </thead>\n",
       "  <tbody>\n",
       "    <tr>\n",
       "      <th>0</th>\n",
       "      <td>1/6/2020</td>\n",
       "      <td>3</td>\n",
       "      <td>3</td>\n",
       "      <td>4</td>\n",
       "      <td>2</td>\n",
       "      <td>2</td>\n",
       "      <td>2</td>\n",
       "      <td>0</td>\n",
       "      <td>1</td>\n",
       "      <td>0</td>\n",
       "      <td>1</td>\n",
       "      <td>1</td>\n",
       "      <td>16.796</td>\n",
       "      <td>0.169</td>\n",
       "      <td>0</td>\n",
       "      <td>38928341</td>\n",
       "      <td>54.422</td>\n",
       "      <td>18.6</td>\n",
       "      <td>2.581</td>\n",
       "      <td>1803.987</td>\n",
       "      <td>597.029</td>\n",
       "      <td>9.59</td>\n",
       "      <td>0.5</td>\n",
       "      <td>64.83</td>\n",
       "      <td>0.511</td>\n",
       "      <td>0</td>\n",
       "      <td>0.923077</td>\n",
       "    </tr>\n",
       "    <tr>\n",
       "      <th>1</th>\n",
       "      <td>8/6/2020</td>\n",
       "      <td>3</td>\n",
       "      <td>3</td>\n",
       "      <td>4</td>\n",
       "      <td>2</td>\n",
       "      <td>2</td>\n",
       "      <td>2</td>\n",
       "      <td>0</td>\n",
       "      <td>3</td>\n",
       "      <td>0</td>\n",
       "      <td>1</td>\n",
       "      <td>1</td>\n",
       "      <td>18.962</td>\n",
       "      <td>0.393</td>\n",
       "      <td>0</td>\n",
       "      <td>38928341</td>\n",
       "      <td>54.422</td>\n",
       "      <td>18.6</td>\n",
       "      <td>2.581</td>\n",
       "      <td>1803.987</td>\n",
       "      <td>597.029</td>\n",
       "      <td>9.59</td>\n",
       "      <td>0.5</td>\n",
       "      <td>64.83</td>\n",
       "      <td>0.511</td>\n",
       "      <td>0</td>\n",
       "      <td>1.000000</td>\n",
       "    </tr>\n",
       "    <tr>\n",
       "      <th>2</th>\n",
       "      <td>15/6/2020</td>\n",
       "      <td>3</td>\n",
       "      <td>1</td>\n",
       "      <td>4</td>\n",
       "      <td>2</td>\n",
       "      <td>2</td>\n",
       "      <td>2</td>\n",
       "      <td>0</td>\n",
       "      <td>3</td>\n",
       "      <td>0</td>\n",
       "      <td>1</td>\n",
       "      <td>1</td>\n",
       "      <td>16.921</td>\n",
       "      <td>0.400</td>\n",
       "      <td>0</td>\n",
       "      <td>38928341</td>\n",
       "      <td>54.422</td>\n",
       "      <td>18.6</td>\n",
       "      <td>2.581</td>\n",
       "      <td>1803.987</td>\n",
       "      <td>597.029</td>\n",
       "      <td>9.59</td>\n",
       "      <td>0.5</td>\n",
       "      <td>64.83</td>\n",
       "      <td>0.511</td>\n",
       "      <td>1</td>\n",
       "      <td>1.000000</td>\n",
       "    </tr>\n",
       "    <tr>\n",
       "      <th>3</th>\n",
       "      <td>22/6/2020</td>\n",
       "      <td>3</td>\n",
       "      <td>1</td>\n",
       "      <td>4</td>\n",
       "      <td>2</td>\n",
       "      <td>2</td>\n",
       "      <td>2</td>\n",
       "      <td>0</td>\n",
       "      <td>3</td>\n",
       "      <td>0</td>\n",
       "      <td>1</td>\n",
       "      <td>1</td>\n",
       "      <td>13.270</td>\n",
       "      <td>0.422</td>\n",
       "      <td>0</td>\n",
       "      <td>38928341</td>\n",
       "      <td>54.422</td>\n",
       "      <td>18.6</td>\n",
       "      <td>2.581</td>\n",
       "      <td>1803.987</td>\n",
       "      <td>597.029</td>\n",
       "      <td>9.59</td>\n",
       "      <td>0.5</td>\n",
       "      <td>64.83</td>\n",
       "      <td>0.511</td>\n",
       "      <td>1</td>\n",
       "      <td>1.000000</td>\n",
       "    </tr>\n",
       "    <tr>\n",
       "      <th>4</th>\n",
       "      <td>29/6/2020</td>\n",
       "      <td>3</td>\n",
       "      <td>1</td>\n",
       "      <td>4</td>\n",
       "      <td>2</td>\n",
       "      <td>2</td>\n",
       "      <td>2</td>\n",
       "      <td>0</td>\n",
       "      <td>3</td>\n",
       "      <td>0</td>\n",
       "      <td>1</td>\n",
       "      <td>1</td>\n",
       "      <td>7.637</td>\n",
       "      <td>0.525</td>\n",
       "      <td>0</td>\n",
       "      <td>38928341</td>\n",
       "      <td>54.422</td>\n",
       "      <td>18.6</td>\n",
       "      <td>2.581</td>\n",
       "      <td>1803.987</td>\n",
       "      <td>597.029</td>\n",
       "      <td>9.59</td>\n",
       "      <td>0.5</td>\n",
       "      <td>64.83</td>\n",
       "      <td>0.511</td>\n",
       "      <td>1</td>\n",
       "      <td>1.000000</td>\n",
       "    </tr>\n",
       "  </tbody>\n",
       "</table>\n",
       "</div>"
      ],
      "text/plain": [
       "        Date  ...  probability_open\n",
       "0   1/6/2020  ...          0.923077\n",
       "1   8/6/2020  ...          1.000000\n",
       "2  15/6/2020  ...          1.000000\n",
       "3  22/6/2020  ...          1.000000\n",
       "4  29/6/2020  ...          1.000000\n",
       "\n",
       "[5 rows x 27 columns]"
      ]
     },
     "execution_count": 101,
     "metadata": {},
     "output_type": "execute_result"
    }
   ],
   "source": [
    "df.head()"
   ]
  },
  {
   "cell_type": "markdown",
   "metadata": {
    "id": "noticed-sport"
   },
   "source": [
    "## Select NA values for prediction and evaluation"
   ]
  },
  {
   "cell_type": "code",
   "execution_count": null,
   "metadata": {
    "id": "smaller-extension"
   },
   "outputs": [],
   "source": [
    "data_topredict = pd.read_csv(io.BytesIO(uploaded['covid_with_y_values.csv'])) "
   ]
  },
  {
   "cell_type": "code",
   "execution_count": null,
   "metadata": {
    "id": "dimensional-resort"
   },
   "outputs": [],
   "source": [
    "data_topredict = data_topredict[data_topredict[\"probability_open\"].isna()] #to be used once model is done"
   ]
  },
  {
   "cell_type": "code",
   "execution_count": null,
   "metadata": {
    "colab": {
     "base_uri": "https://localhost:8080/",
     "height": 241
    },
    "id": "young-description",
    "outputId": "dbeb9385-76d7-4d75-aa73-f1b460bb576c"
   },
   "outputs": [
    {
     "data": {
      "text/html": [
       "<div>\n",
       "<style scoped>\n",
       "    .dataframe tbody tr th:only-of-type {\n",
       "        vertical-align: middle;\n",
       "    }\n",
       "\n",
       "    .dataframe tbody tr th {\n",
       "        vertical-align: top;\n",
       "    }\n",
       "\n",
       "    .dataframe thead th {\n",
       "        text-align: right;\n",
       "    }\n",
       "</style>\n",
       "<table border=\"1\" class=\"dataframe\">\n",
       "  <thead>\n",
       "    <tr style=\"text-align: right;\">\n",
       "      <th></th>\n",
       "      <th>Unnamed: 0</th>\n",
       "      <th>Entity</th>\n",
       "      <th>Code</th>\n",
       "      <th>Date</th>\n",
       "      <th>school_closures</th>\n",
       "      <th>international_travel_controls</th>\n",
       "      <th>restriction_gatherings</th>\n",
       "      <th>cancel_public_events</th>\n",
       "      <th>public_information_campaigns</th>\n",
       "      <th>restrictions_internal_movements</th>\n",
       "      <th>income_support</th>\n",
       "      <th>facial_coverings</th>\n",
       "      <th>vaccination_policy</th>\n",
       "      <th>testing_policy</th>\n",
       "      <th>contact_tracing</th>\n",
       "      <th>new_cases_smoothed_per_million</th>\n",
       "      <th>new_deaths_smoothed_per_million</th>\n",
       "      <th>new_vaccinations_smoothed_per_million</th>\n",
       "      <th>population</th>\n",
       "      <th>population_density</th>\n",
       "      <th>median_age</th>\n",
       "      <th>aged_65_older</th>\n",
       "      <th>gdp_per_capita</th>\n",
       "      <th>cardiovasc_death_rate</th>\n",
       "      <th>diabetes_prevalence</th>\n",
       "      <th>hospital_beds_per_thousand</th>\n",
       "      <th>life_expectancy</th>\n",
       "      <th>human_development_index</th>\n",
       "      <th>international_travel_controls_binary</th>\n",
       "      <th>probability_open</th>\n",
       "    </tr>\n",
       "  </thead>\n",
       "  <tbody>\n",
       "    <tr>\n",
       "      <th>45</th>\n",
       "      <td>45</td>\n",
       "      <td>Afghanistan</td>\n",
       "      <td>AFG</td>\n",
       "      <td>12/4/2021</td>\n",
       "      <td>0</td>\n",
       "      <td>1</td>\n",
       "      <td>0</td>\n",
       "      <td>2</td>\n",
       "      <td>1</td>\n",
       "      <td>0</td>\n",
       "      <td>0</td>\n",
       "      <td>2</td>\n",
       "      <td>2</td>\n",
       "      <td>3</td>\n",
       "      <td>0</td>\n",
       "      <td>1.927</td>\n",
       "      <td>0.077</td>\n",
       "      <td>169</td>\n",
       "      <td>38928341</td>\n",
       "      <td>54.422</td>\n",
       "      <td>18.6</td>\n",
       "      <td>2.581</td>\n",
       "      <td>1803.987</td>\n",
       "      <td>597.029</td>\n",
       "      <td>9.59</td>\n",
       "      <td>0.5</td>\n",
       "      <td>64.83</td>\n",
       "      <td>0.511</td>\n",
       "      <td>1</td>\n",
       "      <td>NaN</td>\n",
       "    </tr>\n",
       "    <tr>\n",
       "      <th>46</th>\n",
       "      <td>46</td>\n",
       "      <td>Afghanistan</td>\n",
       "      <td>AFG</td>\n",
       "      <td>19/4/2021</td>\n",
       "      <td>0</td>\n",
       "      <td>1</td>\n",
       "      <td>0</td>\n",
       "      <td>2</td>\n",
       "      <td>1</td>\n",
       "      <td>0</td>\n",
       "      <td>0</td>\n",
       "      <td>2</td>\n",
       "      <td>2</td>\n",
       "      <td>3</td>\n",
       "      <td>0</td>\n",
       "      <td>2.407</td>\n",
       "      <td>0.062</td>\n",
       "      <td>206</td>\n",
       "      <td>38928341</td>\n",
       "      <td>54.422</td>\n",
       "      <td>18.6</td>\n",
       "      <td>2.581</td>\n",
       "      <td>1803.987</td>\n",
       "      <td>597.029</td>\n",
       "      <td>9.59</td>\n",
       "      <td>0.5</td>\n",
       "      <td>64.83</td>\n",
       "      <td>0.511</td>\n",
       "      <td>1</td>\n",
       "      <td>NaN</td>\n",
       "    </tr>\n",
       "    <tr>\n",
       "      <th>47</th>\n",
       "      <td>47</td>\n",
       "      <td>Afghanistan</td>\n",
       "      <td>AFG</td>\n",
       "      <td>26/4/2021</td>\n",
       "      <td>0</td>\n",
       "      <td>1</td>\n",
       "      <td>0</td>\n",
       "      <td>2</td>\n",
       "      <td>1</td>\n",
       "      <td>0</td>\n",
       "      <td>0</td>\n",
       "      <td>2</td>\n",
       "      <td>2</td>\n",
       "      <td>3</td>\n",
       "      <td>0</td>\n",
       "      <td>4.099</td>\n",
       "      <td>0.169</td>\n",
       "      <td>292</td>\n",
       "      <td>38928341</td>\n",
       "      <td>54.422</td>\n",
       "      <td>18.6</td>\n",
       "      <td>2.581</td>\n",
       "      <td>1803.987</td>\n",
       "      <td>597.029</td>\n",
       "      <td>9.59</td>\n",
       "      <td>0.5</td>\n",
       "      <td>64.83</td>\n",
       "      <td>0.511</td>\n",
       "      <td>1</td>\n",
       "      <td>NaN</td>\n",
       "    </tr>\n",
       "    <tr>\n",
       "      <th>48</th>\n",
       "      <td>48</td>\n",
       "      <td>Afghanistan</td>\n",
       "      <td>AFG</td>\n",
       "      <td>3/5/2021</td>\n",
       "      <td>0</td>\n",
       "      <td>1</td>\n",
       "      <td>0</td>\n",
       "      <td>2</td>\n",
       "      <td>1</td>\n",
       "      <td>0</td>\n",
       "      <td>0</td>\n",
       "      <td>2</td>\n",
       "      <td>2</td>\n",
       "      <td>3</td>\n",
       "      <td>0</td>\n",
       "      <td>4.716</td>\n",
       "      <td>0.183</td>\n",
       "      <td>358</td>\n",
       "      <td>38928341</td>\n",
       "      <td>54.422</td>\n",
       "      <td>18.6</td>\n",
       "      <td>2.581</td>\n",
       "      <td>1803.987</td>\n",
       "      <td>597.029</td>\n",
       "      <td>9.59</td>\n",
       "      <td>0.5</td>\n",
       "      <td>64.83</td>\n",
       "      <td>0.511</td>\n",
       "      <td>1</td>\n",
       "      <td>NaN</td>\n",
       "    </tr>\n",
       "    <tr>\n",
       "      <th>49</th>\n",
       "      <td>49</td>\n",
       "      <td>Afghanistan</td>\n",
       "      <td>AFG</td>\n",
       "      <td>10/5/2021</td>\n",
       "      <td>0</td>\n",
       "      <td>1</td>\n",
       "      <td>0</td>\n",
       "      <td>2</td>\n",
       "      <td>1</td>\n",
       "      <td>0</td>\n",
       "      <td>0</td>\n",
       "      <td>3</td>\n",
       "      <td>2</td>\n",
       "      <td>3</td>\n",
       "      <td>1</td>\n",
       "      <td>6.470</td>\n",
       "      <td>0.206</td>\n",
       "      <td>358</td>\n",
       "      <td>38928341</td>\n",
       "      <td>54.422</td>\n",
       "      <td>18.6</td>\n",
       "      <td>2.581</td>\n",
       "      <td>1803.987</td>\n",
       "      <td>597.029</td>\n",
       "      <td>9.59</td>\n",
       "      <td>0.5</td>\n",
       "      <td>64.83</td>\n",
       "      <td>0.511</td>\n",
       "      <td>1</td>\n",
       "      <td>NaN</td>\n",
       "    </tr>\n",
       "  </tbody>\n",
       "</table>\n",
       "</div>"
      ],
      "text/plain": [
       "    Unnamed: 0  ... probability_open\n",
       "45          45  ...              NaN\n",
       "46          46  ...              NaN\n",
       "47          47  ...              NaN\n",
       "48          48  ...              NaN\n",
       "49          49  ...              NaN\n",
       "\n",
       "[5 rows x 30 columns]"
      ]
     },
     "execution_count": 104,
     "metadata": {},
     "output_type": "execute_result"
    }
   ],
   "source": [
    "data_topredict.head()"
   ]
  },
  {
   "cell_type": "markdown",
   "metadata": {
    "id": "further-private"
   },
   "source": [
    "## Give data label for probability > 0.5"
   ]
  },
  {
   "cell_type": "code",
   "execution_count": null,
   "metadata": {
    "id": "employed-invention"
   },
   "outputs": [],
   "source": [
    "df.dropna(inplace = True) #remove all the \"to_predict\""
   ]
  },
  {
   "cell_type": "code",
   "execution_count": null,
   "metadata": {
    "id": "educated-malawi"
   },
   "outputs": [],
   "source": [
    "conditions = [(df[\"probability_open\"] < 0.5), (df[\"probability_open\"]>= 0.5)]\n",
    "values = [0, 1]\n",
    "\n",
    "df[\"label\"] = np.select(conditions, values) #if else condition for label"
   ]
  },
  {
   "cell_type": "code",
   "execution_count": null,
   "metadata": {
    "colab": {
     "base_uri": "https://localhost:8080/"
    },
    "id": "revised-surgeon",
    "outputId": "7c7999f9-5cc3-49bb-8699-af27bc92e846",
    "scrolled": true
   },
   "outputs": [
    {
     "data": {
      "text/plain": [
       "0    3771\n",
       "1    2754\n",
       "Name: label, dtype: int64"
      ]
     },
     "execution_count": 107,
     "metadata": {},
     "output_type": "execute_result"
    }
   ],
   "source": [
    "df.label.value_counts() #check for unbalanced dataset"
   ]
  },
  {
   "cell_type": "markdown",
   "metadata": {
    "id": "confident-kingdom"
   },
   "source": [
    "## Dataset preparation for model training"
   ]
  },
  {
   "cell_type": "code",
   "execution_count": null,
   "metadata": {
    "colab": {
     "base_uri": "https://localhost:8080/"
    },
    "id": "stylish-liver",
    "outputId": "11c39002-cc09-46bc-db90-362d86830e40",
    "scrolled": true
   },
   "outputs": [
    {
     "name": "stdout",
     "output_type": "stream",
     "text": [
      "['school_closures', 'international_travel_controls', 'restriction_gatherings', 'cancel_public_events', 'public_information_campaigns', 'restrictions_internal_movements', 'income_support', 'facial_coverings', 'vaccination_policy', 'testing_policy', 'contact_tracing', 'new_cases_smoothed_per_million', 'new_deaths_smoothed_per_million', 'new_vaccinations_smoothed_per_million', 'population', 'population_density', 'median_age', 'aged_65_older', 'gdp_per_capita', 'cardiovasc_death_rate', 'diabetes_prevalence', 'hospital_beds_per_thousand', 'life_expectancy', 'human_development_index', 'international_travel_controls_binary']\n"
     ]
    }
   ],
   "source": [
    "allcols = df.columns.tolist()\n",
    "feature_cols = allcols.copy()\n",
    "feature_cols.remove(\"probability_open\") #remove due to multicollinearity\n",
    "feature_cols.remove(\"label\") #remove response variable\n",
    "feature_cols.remove(\"Date\") #remove date which is not a feature in the model\n",
    "\n",
    "print(feature_cols)"
   ]
  },
  {
   "cell_type": "code",
   "execution_count": null,
   "metadata": {
    "id": "abstract-reflection"
   },
   "outputs": [],
   "source": [
    "y = df[\"label\"] #get response variable\n",
    "x = df[feature_cols] #get features\n",
    "\n",
    "X_train, X_test, y_train, y_test = train_test_split(x, y, test_size = 0.2, random_state = 3, stratify = y) #try to balance the dataset more"
   ]
  },
  {
   "cell_type": "code",
   "execution_count": null,
   "metadata": {
    "colab": {
     "base_uri": "https://localhost:8080/"
    },
    "id": "second-induction",
    "outputId": "29c9e145-c405-4d76-895a-6cd09eb37927",
    "scrolled": true
   },
   "outputs": [
    {
     "data": {
      "text/plain": [
       "0    3017\n",
       "1    2203\n",
       "Name: label, dtype: int64"
      ]
     },
     "execution_count": 130,
     "metadata": {},
     "output_type": "execute_result"
    }
   ],
   "source": [
    "y_train.value_counts() #training dataset is balanced at approximately 42% for y=1"
   ]
  },
  {
   "cell_type": "code",
   "execution_count": null,
   "metadata": {
    "colab": {
     "base_uri": "https://localhost:8080/"
    },
    "id": "impressed-situation",
    "outputId": "4e2b9cf5-ff75-449c-dcc7-778b926d7322"
   },
   "outputs": [
    {
     "data": {
      "text/plain": [
       "0    754\n",
       "1    551\n",
       "Name: label, dtype: int64"
      ]
     },
     "execution_count": 131,
     "metadata": {},
     "output_type": "execute_result"
    }
   ],
   "source": [
    "y_test.value_counts() #test dataset is balanced at approximately 42% for y=1"
   ]
  },
  {
   "cell_type": "markdown",
   "metadata": {
    "id": "DYQ6LpvqsPDZ"
   },
   "source": [
    "## Initial Model"
   ]
  },
  {
   "cell_type": "code",
   "execution_count": null,
   "metadata": {
    "id": "7mJPExIdsPDZ",
    "scrolled": true
   },
   "outputs": [],
   "source": [
    "def feature_imp(model):\n",
    "    a=dict(zip(X_train.columns, model.feature_importances_.round(3)))\n",
    "    b = dict()\n",
    "    for key, value in a.items():\n",
    "        if value > 0 :\n",
    "            b[key] = value\n",
    "\n",
    "    return sorted(b.items(), key=lambda x: x[1],reverse=True)"
   ]
  },
  {
   "cell_type": "code",
   "execution_count": null,
   "metadata": {
    "id": "_s-xoGqGs8W6"
   },
   "outputs": [],
   "source": [
    "# normal fitting\n",
    "clf = RandomForestClassifier(n_estimators=500, random_state=0)\n",
    "clf.fit(X_train, y_train)\n",
    "y_pred_train = clf.predict(X_train)\n",
    "y_pred = clf.predict(X_test)"
   ]
  },
  {
   "cell_type": "code",
   "execution_count": null,
   "metadata": {
    "colab": {
     "base_uri": "https://localhost:8080/"
    },
    "id": "7Gp4PdGRtNfJ",
    "outputId": "2fc286a5-c764-4d45-896f-72cc925d3e57"
   },
   "outputs": [
    {
     "data": {
      "text/plain": [
       "<BarContainer object of 25 artists>"
      ]
     },
     "execution_count": 134,
     "metadata": {},
     "output_type": "execute_result"
    },
    {
     "data": {
      "image/png": "[encoded data removed]",
      "text/plain": [
       "<Figure size 360x360 with 1 Axes>"
      ]
     },
     "metadata": {
      "needs_background": "light"
     },
     "output_type": "display_data"
    }
   ],
   "source": [
    "plt.figure(figsize=(5,5))\n",
    "imp = feature_imp(clf)\n",
    "x_val = [x[0] for x in imp]\n",
    "y_val = [x[1] for x in imp]\n",
    "plt.barh(x_val,y_val)"
   ]
  },
  {
   "cell_type": "code",
   "execution_count": null,
   "metadata": {
    "colab": {
     "base_uri": "https://localhost:8080/"
    },
    "id": "OGaLTNJitCto",
    "outputId": "606f1556-c987-4ebd-b1ca-04db24a1125c"
   },
   "outputs": [
    {
     "data": {
      "text/html": [
       "<div>\n",
       "<style scoped>\n",
       "    .dataframe tbody tr th:only-of-type {\n",
       "        vertical-align: middle;\n",
       "    }\n",
       "\n",
       "    .dataframe tbody tr th {\n",
       "        vertical-align: top;\n",
       "    }\n",
       "\n",
       "    .dataframe thead th {\n",
       "        text-align: right;\n",
       "    }\n",
       "</style>\n",
       "<table border=\"1\" class=\"dataframe\">\n",
       "  <thead>\n",
       "    <tr style=\"text-align: right;\">\n",
       "      <th></th>\n",
       "      <th>True Y=0</th>\n",
       "      <th>True Y=1</th>\n",
       "    </tr>\n",
       "  </thead>\n",
       "  <tbody>\n",
       "    <tr>\n",
       "      <th>Predicted Y=0</th>\n",
       "      <td>3013</td>\n",
       "      <td>3</td>\n",
       "    </tr>\n",
       "    <tr>\n",
       "      <th>Predicted Y=1</th>\n",
       "      <td>4</td>\n",
       "      <td>2200</td>\n",
       "    </tr>\n",
       "  </tbody>\n",
       "</table>\n",
       "</div>"
      ],
      "text/plain": [
       "               True Y=0  True Y=1\n",
       "Predicted Y=0      3013         3\n",
       "Predicted Y=1         4      2200"
      ]
     },
     "metadata": {},
     "output_type": "display_data"
    },
    {
     "name": "stdout",
     "output_type": "stream",
     "text": [
      "Accuracy (Training Set): 0.9987\n",
      "Precision (Training Set): 0.9982\n",
      "Specificity (Training Set): 0.9987\n",
      "Sensitivity (Training Set): 0.9986\n",
      "F1-Score (Training Set): 0.9984\n",
      "AUC (Training Set): 0.9987\n"
     ]
    },
    {
     "data": {
      "text/plain": [
       "[('international_travel_controls', 0.201),\n",
       " ('international_travel_controls_binary', 0.17),\n",
       " ('new_cases_smoothed_per_million', 0.079),\n",
       " ('new_deaths_smoothed_per_million', 0.061),\n",
       " ('median_age', 0.052),\n",
       " ('life_expectancy', 0.042),\n",
       " ('gdp_per_capita', 0.037),\n",
       " ('human_development_index', 0.034),\n",
       " ('aged_65_older', 0.032),\n",
       " ('hospital_beds_per_thousand', 0.032),\n",
       " ('population_density', 0.027),\n",
       " ('cardiovasc_death_rate', 0.027),\n",
       " ('diabetes_prevalence', 0.027),\n",
       " ('population', 0.026),\n",
       " ('facial_coverings', 0.021),\n",
       " ('school_closures', 0.019),\n",
       " ('restrictions_internal_movements', 0.019),\n",
       " ('restriction_gatherings', 0.018),\n",
       " ('new_vaccinations_smoothed_per_million', 0.017),\n",
       " ('vaccination_policy', 0.014),\n",
       " ('income_support', 0.013),\n",
       " ('testing_policy', 0.012),\n",
       " ('contact_tracing', 0.009),\n",
       " ('cancel_public_events', 0.008),\n",
       " ('public_information_campaigns', 0.003)]"
      ]
     },
     "execution_count": 135,
     "metadata": {},
     "output_type": "execute_result"
    }
   ],
   "source": [
    "cm = pd.DataFrame(confusion_matrix(y_pred_train, y_train))\n",
    "cm.columns = ['True Y=0','True Y=1']\n",
    "cm.index = ['Predicted Y=0','Predicted Y=1']\n",
    "display(cm)\n",
    "specificity = cm.iloc[0, 0]/(cm.iloc[0, 0] + cm.iloc[1, 0])\n",
    "print(\"Accuracy (Training Set):\",round(accuracy_score(y_train, y_pred_train),4))\n",
    "print('Precision (Training Set):', round(precision_score(y_train, y_pred_train),4))\n",
    "print('Specificity (Training Set):', round(specificity,4))\n",
    "print('Sensitivity (Training Set):',round(recall_score(y_train,y_pred_train),4))\n",
    "print('F1-Score (Training Set):', round(f1_score(y_train,y_pred_train),4))\n",
    "print('AUC (Training Set):',round(roc_auc_score(y_train, y_pred_train),4))\n",
    "feature_imp(clf)"
   ]
  },
  {
   "cell_type": "code",
   "execution_count": null,
   "metadata": {
    "colab": {
     "base_uri": "https://localhost:8080/"
    },
    "id": "zWMxqTgvtTQ5",
    "outputId": "ea34ecd6-38fa-45b9-863c-13a0a20ceedf"
   },
   "outputs": [
    {
     "data": {
      "text/html": [
       "<div>\n",
       "<style scoped>\n",
       "    .dataframe tbody tr th:only-of-type {\n",
       "        vertical-align: middle;\n",
       "    }\n",
       "\n",
       "    .dataframe tbody tr th {\n",
       "        vertical-align: top;\n",
       "    }\n",
       "\n",
       "    .dataframe thead th {\n",
       "        text-align: right;\n",
       "    }\n",
       "</style>\n",
       "<table border=\"1\" class=\"dataframe\">\n",
       "  <thead>\n",
       "    <tr style=\"text-align: right;\">\n",
       "      <th></th>\n",
       "      <th>True Y=0</th>\n",
       "      <th>True Y=1</th>\n",
       "    </tr>\n",
       "  </thead>\n",
       "  <tbody>\n",
       "    <tr>\n",
       "      <th>Predicted Y=0</th>\n",
       "      <td>727</td>\n",
       "      <td>40</td>\n",
       "    </tr>\n",
       "    <tr>\n",
       "      <th>Predicted Y=1</th>\n",
       "      <td>27</td>\n",
       "      <td>511</td>\n",
       "    </tr>\n",
       "  </tbody>\n",
       "</table>\n",
       "</div>"
      ],
      "text/plain": [
       "               True Y=0  True Y=1\n",
       "Predicted Y=0       727        40\n",
       "Predicted Y=1        27       511"
      ]
     },
     "metadata": {},
     "output_type": "display_data"
    },
    {
     "name": "stdout",
     "output_type": "stream",
     "text": [
      "Accuracy (Testing Set): 0.9487\n",
      "Precision (Testing Set): 0.9498\n",
      "Specificity (Testing Set): 0.9642\n",
      "Sensitivity (Testing Set): 0.9274\n",
      "F1-Score (Testing Set): 0.9385\n",
      "AUC (Testing Set): 0.9458\n"
     ]
    },
    {
     "data": {
      "text/plain": [
       "[('international_travel_controls', 0.201),\n",
       " ('international_travel_controls_binary', 0.17),\n",
       " ('new_cases_smoothed_per_million', 0.079),\n",
       " ('new_deaths_smoothed_per_million', 0.061),\n",
       " ('median_age', 0.052),\n",
       " ('life_expectancy', 0.042),\n",
       " ('gdp_per_capita', 0.037),\n",
       " ('human_development_index', 0.034),\n",
       " ('aged_65_older', 0.032),\n",
       " ('hospital_beds_per_thousand', 0.032),\n",
       " ('population_density', 0.027),\n",
       " ('cardiovasc_death_rate', 0.027),\n",
       " ('diabetes_prevalence', 0.027),\n",
       " ('population', 0.026),\n",
       " ('facial_coverings', 0.021),\n",
       " ('school_closures', 0.019),\n",
       " ('restrictions_internal_movements', 0.019),\n",
       " ('restriction_gatherings', 0.018),\n",
       " ('new_vaccinations_smoothed_per_million', 0.017),\n",
       " ('vaccination_policy', 0.014),\n",
       " ('income_support', 0.013),\n",
       " ('testing_policy', 0.012),\n",
       " ('contact_tracing', 0.009),\n",
       " ('cancel_public_events', 0.008),\n",
       " ('public_information_campaigns', 0.003)]"
      ]
     },
     "execution_count": 136,
     "metadata": {},
     "output_type": "execute_result"
    }
   ],
   "source": [
    "cm = pd.DataFrame(confusion_matrix(y_pred, y_test))\n",
    "cm.columns = ['True Y=0','True Y=1']\n",
    "cm.index = ['Predicted Y=0','Predicted Y=1']\n",
    "display(cm)\n",
    "specificity = cm.iloc[0, 0]/(cm.iloc[0, 0] + cm.iloc[1, 0])\n",
    "print(\"Accuracy (Testing Set):\",round(accuracy_score(y_test, y_pred),4))\n",
    "print('Precision (Testing Set):', round(precision_score(y_test, y_pred),4))\n",
    "print('Specificity (Testing Set):', round(specificity,4))\n",
    "print('Sensitivity (Testing Set):',round(recall_score(y_test,y_pred),4))\n",
    "print('F1-Score (Testing Set):', round(f1_score(y_test,y_pred),4))\n",
    "print('AUC (Testing Set):',round(roc_auc_score(y_test, y_pred),4))\n",
    "feature_imp(clf)"
   ]
  },
  {
   "cell_type": "markdown",
   "metadata": {
    "id": "e7Q5YhvzKcLR"
   },
   "source": [
    "## Remove insignificant variables"
   ]
  },
  {
   "cell_type": "code",
   "execution_count": null,
   "metadata": {
    "id": "d1RUDsh8Kk_m"
   },
   "outputs": [],
   "source": [
    "feature_cols.remove(\"public_information_campaigns\")\n",
    "y = df[\"label\"]\n",
    "x = df[feature_cols]\n",
    "\n",
    "X_train, X_test, y_train, y_test = train_test_split(x, y, test_size = 0.2, random_state = 3, stratify = y)"
   ]
  },
  {
   "cell_type": "code",
   "execution_count": null,
   "metadata": {
    "id": "AHjkYt3OKcLS"
   },
   "outputs": [],
   "source": [
    "# model after removing insignificant variables\n",
    "clf = RandomForestClassifier(n_estimators=500, random_state=0)\n",
    "clf.fit(X_train, y_train)\n",
    "y_pred_train = clf.predict(X_train)\n",
    "y_pred = clf.predict(X_test)"
   ]
  },
  {
   "cell_type": "code",
   "execution_count": null,
   "metadata": {
    "colab": {
     "base_uri": "https://localhost:8080/",
     "height": 338
    },
    "id": "9Zzrkwf5KcLS",
    "outputId": "68b00dc9-8962-4d81-879a-1915e3d37de3"
   },
   "outputs": [
    {
     "data": {
      "text/plain": [
       "<BarContainer object of 24 artists>"
      ]
     },
     "execution_count": 139,
     "metadata": {},
     "output_type": "execute_result"
    },
    {
     "data": {
      "image/png": "[encoded data removed]",
      "text/plain": [
       "<Figure size 360x360 with 1 Axes>"
      ]
     },
     "metadata": {
      "needs_background": "light"
     },
     "output_type": "display_data"
    }
   ],
   "source": [
    "plt.figure(figsize=(5,5))\n",
    "imp = feature_imp(clf)\n",
    "x_val = [x[0] for x in imp]\n",
    "y_val = [x[1] for x in imp]\n",
    "plt.barh(x_val,y_val)"
   ]
  },
  {
   "cell_type": "code",
   "execution_count": null,
   "metadata": {
    "colab": {
     "base_uri": "https://localhost:8080/",
     "height": 651
    },
    "id": "sD4cWEUqKcLT",
    "outputId": "e254c040-18e9-4a96-c3ae-fb4837e2f1c9"
   },
   "outputs": [
    {
     "data": {
      "text/html": [
       "<div>\n",
       "<style scoped>\n",
       "    .dataframe tbody tr th:only-of-type {\n",
       "        vertical-align: middle;\n",
       "    }\n",
       "\n",
       "    .dataframe tbody tr th {\n",
       "        vertical-align: top;\n",
       "    }\n",
       "\n",
       "    .dataframe thead th {\n",
       "        text-align: right;\n",
       "    }\n",
       "</style>\n",
       "<table border=\"1\" class=\"dataframe\">\n",
       "  <thead>\n",
       "    <tr style=\"text-align: right;\">\n",
       "      <th></th>\n",
       "      <th>True Y=0</th>\n",
       "      <th>True Y=1</th>\n",
       "    </tr>\n",
       "  </thead>\n",
       "  <tbody>\n",
       "    <tr>\n",
       "      <th>Predicted Y=0</th>\n",
       "      <td>3013</td>\n",
       "      <td>3</td>\n",
       "    </tr>\n",
       "    <tr>\n",
       "      <th>Predicted Y=1</th>\n",
       "      <td>4</td>\n",
       "      <td>2200</td>\n",
       "    </tr>\n",
       "  </tbody>\n",
       "</table>\n",
       "</div>"
      ],
      "text/plain": [
       "               True Y=0  True Y=1\n",
       "Predicted Y=0      3013         3\n",
       "Predicted Y=1         4      2200"
      ]
     },
     "metadata": {},
     "output_type": "display_data"
    },
    {
     "name": "stdout",
     "output_type": "stream",
     "text": [
      "Accuracy (Training Set): 0.9987\n",
      "Precision (Training Set): 0.9982\n",
      "Specificity (Training Set): 0.9987\n",
      "Sensitivity (Training Set): 0.9986\n",
      "F1-Score (Training Set): 0.9984\n",
      "AUC (Training Set): 0.9987\n"
     ]
    },
    {
     "data": {
      "text/plain": [
       "[('international_travel_controls', 0.176),\n",
       " ('international_travel_controls_binary', 0.176),\n",
       " ('new_cases_smoothed_per_million', 0.08),\n",
       " ('new_deaths_smoothed_per_million', 0.062),\n",
       " ('median_age', 0.048),\n",
       " ('life_expectancy', 0.046),\n",
       " ('gdp_per_capita', 0.041),\n",
       " ('human_development_index', 0.038),\n",
       " ('aged_65_older', 0.035),\n",
       " ('hospital_beds_per_thousand', 0.035),\n",
       " ('diabetes_prevalence', 0.029),\n",
       " ('population', 0.027),\n",
       " ('population_density', 0.027),\n",
       " ('cardiovasc_death_rate', 0.027),\n",
       " ('facial_coverings', 0.021),\n",
       " ('school_closures', 0.019),\n",
       " ('restriction_gatherings', 0.019),\n",
       " ('restrictions_internal_movements', 0.019),\n",
       " ('new_vaccinations_smoothed_per_million', 0.017),\n",
       " ('vaccination_policy', 0.014),\n",
       " ('income_support', 0.013),\n",
       " ('testing_policy', 0.012),\n",
       " ('contact_tracing', 0.01),\n",
       " ('cancel_public_events', 0.009)]"
      ]
     },
     "execution_count": 140,
     "metadata": {},
     "output_type": "execute_result"
    }
   ],
   "source": [
    "cm = pd.DataFrame(confusion_matrix(y_pred_train, y_train))\n",
    "cm.columns = ['True Y=0','True Y=1']\n",
    "cm.index = ['Predicted Y=0','Predicted Y=1']\n",
    "display(cm)\n",
    "specificity = cm.iloc[0, 0]/(cm.iloc[0, 0] + cm.iloc[1, 0])\n",
    "print(\"Accuracy (Training Set):\",round(accuracy_score(y_train, y_pred_train),4))\n",
    "print('Precision (Training Set):', round(precision_score(y_train, y_pred_train),4))\n",
    "print('Specificity (Training Set):', round(specificity,4))\n",
    "print('Sensitivity (Training Set):',round(recall_score(y_train,y_pred_train),4))\n",
    "print('F1-Score (Training Set):', round(f1_score(y_train,y_pred_train),4))\n",
    "print('AUC (Training Set):',round(roc_auc_score(y_train, y_pred_train),4))\n",
    "feature_imp(clf)"
   ]
  },
  {
   "cell_type": "code",
   "execution_count": null,
   "metadata": {
    "colab": {
     "base_uri": "https://localhost:8080/",
     "height": 651
    },
    "id": "Yf9eg7x1KcLT",
    "outputId": "678e5c90-3c96-4fbf-934c-9f682c424f2c"
   },
   "outputs": [
    {
     "data": {
      "text/html": [
       "<div>\n",
       "<style scoped>\n",
       "    .dataframe tbody tr th:only-of-type {\n",
       "        vertical-align: middle;\n",
       "    }\n",
       "\n",
       "    .dataframe tbody tr th {\n",
       "        vertical-align: top;\n",
       "    }\n",
       "\n",
       "    .dataframe thead th {\n",
       "        text-align: right;\n",
       "    }\n",
       "</style>\n",
       "<table border=\"1\" class=\"dataframe\">\n",
       "  <thead>\n",
       "    <tr style=\"text-align: right;\">\n",
       "      <th></th>\n",
       "      <th>True Y=0</th>\n",
       "      <th>True Y=1</th>\n",
       "    </tr>\n",
       "  </thead>\n",
       "  <tbody>\n",
       "    <tr>\n",
       "      <th>Predicted Y=0</th>\n",
       "      <td>731</td>\n",
       "      <td>39</td>\n",
       "    </tr>\n",
       "    <tr>\n",
       "      <th>Predicted Y=1</th>\n",
       "      <td>23</td>\n",
       "      <td>512</td>\n",
       "    </tr>\n",
       "  </tbody>\n",
       "</table>\n",
       "</div>"
      ],
      "text/plain": [
       "               True Y=0  True Y=1\n",
       "Predicted Y=0       731        39\n",
       "Predicted Y=1        23       512"
      ]
     },
     "metadata": {},
     "output_type": "display_data"
    },
    {
     "name": "stdout",
     "output_type": "stream",
     "text": [
      "Accuracy (Testing Set): 0.9525\n",
      "Precision (Testing Set): 0.957\n",
      "Specificity (Testing Set): 0.9695\n",
      "Sensitivity (Testing Set): 0.9292\n",
      "F1-Score (Testing Set): 0.9429\n",
      "AUC (Testing Set): 0.9494\n"
     ]
    },
    {
     "data": {
      "text/plain": [
       "[('international_travel_controls', 0.176),\n",
       " ('international_travel_controls_binary', 0.176),\n",
       " ('new_cases_smoothed_per_million', 0.08),\n",
       " ('new_deaths_smoothed_per_million', 0.062),\n",
       " ('median_age', 0.048),\n",
       " ('life_expectancy', 0.046),\n",
       " ('gdp_per_capita', 0.041),\n",
       " ('human_development_index', 0.038),\n",
       " ('aged_65_older', 0.035),\n",
       " ('hospital_beds_per_thousand', 0.035),\n",
       " ('diabetes_prevalence', 0.029),\n",
       " ('population', 0.027),\n",
       " ('population_density', 0.027),\n",
       " ('cardiovasc_death_rate', 0.027),\n",
       " ('facial_coverings', 0.021),\n",
       " ('school_closures', 0.019),\n",
       " ('restriction_gatherings', 0.019),\n",
       " ('restrictions_internal_movements', 0.019),\n",
       " ('new_vaccinations_smoothed_per_million', 0.017),\n",
       " ('vaccination_policy', 0.014),\n",
       " ('income_support', 0.013),\n",
       " ('testing_policy', 0.012),\n",
       " ('contact_tracing', 0.01),\n",
       " ('cancel_public_events', 0.009)]"
      ]
     },
     "execution_count": 141,
     "metadata": {},
     "output_type": "execute_result"
    }
   ],
   "source": [
    "cm = pd.DataFrame(confusion_matrix(y_pred, y_test))\n",
    "cm.columns = ['True Y=0','True Y=1']\n",
    "cm.index = ['Predicted Y=0','Predicted Y=1']\n",
    "display(cm)\n",
    "specificity = cm.iloc[0, 0]/(cm.iloc[0, 0] + cm.iloc[1, 0])\n",
    "print(\"Accuracy (Testing Set):\",round(accuracy_score(y_test, y_pred),4))\n",
    "print('Precision (Testing Set):', round(precision_score(y_test, y_pred),4))\n",
    "print('Specificity (Testing Set):', round(specificity,4))\n",
    "print('Sensitivity (Testing Set):',round(recall_score(y_test,y_pred),4))\n",
    "print('F1-Score (Testing Set):', round(f1_score(y_test,y_pred),4))\n",
    "print('AUC (Testing Set):',round(roc_auc_score(y_test, y_pred),4))\n",
    "feature_imp(clf)"
   ]
  },
  {
   "cell_type": "markdown",
   "metadata": {
    "id": "UTKwbSBmuH8w"
   },
   "source": [
    "## Random Forest Tuning"
   ]
  },
  {
   "cell_type": "code",
   "execution_count": null,
   "metadata": {
    "colab": {
     "base_uri": "https://localhost:8080/"
    },
    "id": "hm0fBBxguQeE",
    "outputId": "6b45207f-e332-4d52-e440-64f68b1d5534"
   },
   "outputs": [
    {
     "name": "stdout",
     "output_type": "stream",
     "text": [
      "Best max_depth for gini: 23\n",
      "Best max_depth for entropy: 18\n"
     ]
    }
   ],
   "source": [
    "#Tune on the max_depth parameter, on both 'gini' and 'entropy' \n",
    "\n",
    "max_depth = []\n",
    "acc_gini = []\n",
    "acc_entropy = []\n",
    "for i in range(15,25):\n",
    "    dtree = RandomForestClassifier(n_estimators=500, random_state=0, criterion='gini', max_depth=i)\n",
    "    dtree.fit(X_train, y_train)\n",
    "    pred = dtree.predict(X_test)\n",
    "    acc_gini.append(accuracy_score(y_test, pred))\n",
    "    ###\n",
    "    dtree = RandomForestClassifier(n_estimators=500, random_state=0, criterion='entropy', max_depth=i)\n",
    "    dtree.fit(X_train, y_train)\n",
    "    pred = dtree.predict(X_test)\n",
    "    acc_entropy.append(accuracy_score(y_test, pred))\n",
    "    ####\n",
    "    max_depth.append(i)\n",
    "d = pd.DataFrame({'acc_gini':pd.Series(acc_gini), \n",
    "    'acc_entropy':pd.Series(acc_entropy),\n",
    "    'max_depth':pd.Series(max_depth)})\n",
    "# visualizing changes in parameters\n",
    "# plt.plot('max_depth','acc_gini', data=d, label='gini')\n",
    "# plt.plot('max_depth','acc_entropy', data=d, label='entropy')\n",
    "# plt.xlabel('max_depth')\n",
    "# plt.ylabel('accuracy')\n",
    "# plt.legend()\n",
    "print(\"Best max_depth for gini:\", d.sort_values('acc_gini',ascending=False).iloc[0,2])\n",
    "print(\"Best max_depth for entropy:\", d.sort_values('acc_entropy',ascending=False).iloc[0,2])"
   ]
  },
  {
   "cell_type": "code",
   "execution_count": null,
   "metadata": {
    "colab": {
     "base_uri": "https://localhost:8080/"
    },
    "id": "kEKPf3XQujyY",
    "outputId": "abc04a45-eb25-4f23-ccd6-6f8278df5cf7"
   },
   "outputs": [
    {
     "name": "stdout",
     "output_type": "stream",
     "text": [
      "Best max_features for gini: 2\n",
      "Best max_features for entropy: 11\n"
     ]
    }
   ],
   "source": [
    "#Tune on max_features parameter, on both 'gini' and 'entropy' \n",
    "\n",
    "max_depth = []\n",
    "acc_gini = []\n",
    "acc_entropy = []\n",
    "for i in range(2, 15):\n",
    "    dtree = RandomForestClassifier(n_estimators=500, random_state=0, criterion='gini', max_depth=23, max_features=i)\n",
    "    dtree.fit(X_train, y_train)\n",
    "    pred = dtree.predict(X_test)\n",
    "    acc_gini.append(accuracy_score(y_test, pred))\n",
    "    ###\n",
    "    dtree = RandomForestClassifier(n_estimators=500, random_state=0, criterion='entropy', max_depth=18, max_features=i)\n",
    "    dtree.fit(X_train, y_train)\n",
    "    pred = dtree.predict(X_test)\n",
    "    acc_entropy.append(accuracy_score(y_test, pred))\n",
    "    ####\n",
    "    max_depth.append(i)\n",
    "d = pd.DataFrame({'acc_gini':pd.Series(acc_gini), \n",
    "    'acc_entropy':pd.Series(acc_entropy),\n",
    "    'max_depth':pd.Series(max_depth)})\n",
    "# visualizing changes in parameters\n",
    "# plt.plot('max_depth','acc_gini', data=d, label='gini')\n",
    "# plt.plot('max_depth','acc_entropy', data=d, label='entropy')\n",
    "# plt.xlabel('max_depth')\n",
    "# plt.ylabel('accuracy')\n",
    "# plt.legend()\n",
    "print(\"Best max_features for gini:\", d.sort_values('acc_gini',ascending=False).iloc[0,2])\n",
    "print(\"Best max_features for entropy:\", d.sort_values('acc_entropy',ascending=False).iloc[0,2])"
   ]
  },
  {
   "cell_type": "code",
   "execution_count": null,
   "metadata": {
    "colab": {
     "base_uri": "https://localhost:8080/",
     "height": 421
    },
    "id": "nhnC8nLWCU5u",
    "outputId": "78565eac-b68e-4789-b963-243c83fa0e34"
   },
   "outputs": [
    {
     "data": {
      "text/html": [
       "<div>\n",
       "<style scoped>\n",
       "    .dataframe tbody tr th:only-of-type {\n",
       "        vertical-align: middle;\n",
       "    }\n",
       "\n",
       "    .dataframe tbody tr th {\n",
       "        vertical-align: top;\n",
       "    }\n",
       "\n",
       "    .dataframe thead th {\n",
       "        text-align: right;\n",
       "    }\n",
       "</style>\n",
       "<table border=\"1\" class=\"dataframe\">\n",
       "  <thead>\n",
       "    <tr style=\"text-align: right;\">\n",
       "      <th></th>\n",
       "      <th>True Y=0</th>\n",
       "      <th>True Y=1</th>\n",
       "    </tr>\n",
       "  </thead>\n",
       "  <tbody>\n",
       "    <tr>\n",
       "      <th>Predicted Y=0</th>\n",
       "      <td>3013</td>\n",
       "      <td>3</td>\n",
       "    </tr>\n",
       "    <tr>\n",
       "      <th>Predicted Y=1</th>\n",
       "      <td>4</td>\n",
       "      <td>2200</td>\n",
       "    </tr>\n",
       "  </tbody>\n",
       "</table>\n",
       "</div>"
      ],
      "text/plain": [
       "               True Y=0  True Y=1\n",
       "Predicted Y=0      3013         3\n",
       "Predicted Y=1         4      2200"
      ]
     },
     "metadata": {},
     "output_type": "display_data"
    },
    {
     "name": "stdout",
     "output_type": "stream",
     "text": [
      "Accuracy (Training Set): 0.9987\n",
      "Precision (Training Set): 0.9982\n",
      "Specificity (Training Set): 0.9987\n",
      "Recall (Training Set): 0.9986\n",
      "F1-Score (Training Set): 0.9984\n",
      "AUC (Training Set): 0.9987\n"
     ]
    },
    {
     "data": {
      "text/html": [
       "<div>\n",
       "<style scoped>\n",
       "    .dataframe tbody tr th:only-of-type {\n",
       "        vertical-align: middle;\n",
       "    }\n",
       "\n",
       "    .dataframe tbody tr th {\n",
       "        vertical-align: top;\n",
       "    }\n",
       "\n",
       "    .dataframe thead th {\n",
       "        text-align: right;\n",
       "    }\n",
       "</style>\n",
       "<table border=\"1\" class=\"dataframe\">\n",
       "  <thead>\n",
       "    <tr style=\"text-align: right;\">\n",
       "      <th></th>\n",
       "      <th>True Y=0</th>\n",
       "      <th>True Y=1</th>\n",
       "    </tr>\n",
       "  </thead>\n",
       "  <tbody>\n",
       "    <tr>\n",
       "      <th>Predicted Y=0</th>\n",
       "      <td>733</td>\n",
       "      <td>39</td>\n",
       "    </tr>\n",
       "    <tr>\n",
       "      <th>Predicted Y=1</th>\n",
       "      <td>21</td>\n",
       "      <td>512</td>\n",
       "    </tr>\n",
       "  </tbody>\n",
       "</table>\n",
       "</div>"
      ],
      "text/plain": [
       "               True Y=0  True Y=1\n",
       "Predicted Y=0       733        39\n",
       "Predicted Y=1        21       512"
      ]
     },
     "metadata": {},
     "output_type": "display_data"
    },
    {
     "name": "stdout",
     "output_type": "stream",
     "text": [
      "Accuracy (Testing Set): 0.954\n",
      "Precision (Testing Set): 0.9606\n",
      "Specificity (Testing Set): 0.9721\n",
      "Sensitivity (Testing Set): 0.9292\n",
      "F1-Score (Testing Set): 0.9446\n",
      "AUC (Testing Set): 0.9507\n"
     ]
    }
   ],
   "source": [
    "# Model with criterion='gini', max_depth=23, max_features=2\n",
    "\n",
    "clf_gini = RandomForestClassifier(n_estimators=500, random_state=0, criterion='gini', max_depth=23, max_features=2)\n",
    "clf_gini = clf_gini.fit(X_train,y_train)\n",
    "y_pred_gini = clf_gini.predict(X_test)\n",
    "y_pred_train_gini = clf_gini.predict(X_train)\n",
    "cm = pd.DataFrame(confusion_matrix(y_pred_train_gini, y_train))\n",
    "cm.columns = ['True Y=0','True Y=1']\n",
    "cm.index = ['Predicted Y=0','Predicted Y=1']\n",
    "display(cm)\n",
    "specificity = cm.iloc[0, 0]/(cm.iloc[0, 0] + cm.iloc[1, 0])\n",
    "print(\"Accuracy (Training Set):\",round(accuracy_score(y_train, y_pred_train_gini),4))\n",
    "print('Precision (Training Set):', round(precision_score(y_train, y_pred_train_gini),4))\n",
    "print('Specificity (Training Set):', round(specificity,4))\n",
    "print('Recall (Training Set):',round(recall_score(y_train,y_pred_train_gini),4))\n",
    "print('F1-Score (Training Set):', round(f1_score(y_train,y_pred_train_gini),4))\n",
    "print('AUC (Training Set):',round(roc_auc_score(y_train, y_pred_train_gini),4))\n",
    "cm2 = pd.DataFrame(confusion_matrix(y_pred_gini, y_test))\n",
    "cm2.columns = ['True Y=0','True Y=1']\n",
    "cm2.index = ['Predicted Y=0','Predicted Y=1']\n",
    "display(cm2)\n",
    "specificity2 = cm2.iloc[0, 0]/(cm2.iloc[0, 0] + cm2.iloc[1, 0])\n",
    "print(\"Accuracy (Testing Set):\", round(accuracy_score(y_test, y_pred_gini),4))\n",
    "print('Precision (Testing Set):', round(precision_score(y_test, y_pred_gini),4))\n",
    "print('Specificity (Testing Set):', round(specificity2,4))\n",
    "print('Sensitivity (Testing Set):', round(recall_score(y_test,y_pred_gini),4))\n",
    "print('F1-Score (Testing Set):',  round(f1_score(y_test,y_pred_gini),4))\n",
    "print('AUC (Testing Set):', round(roc_auc_score(y_test, y_pred_gini),4))"
   ]
  },
  {
   "cell_type": "code",
   "execution_count": null,
   "metadata": {
    "colab": {
     "base_uri": "https://localhost:8080/",
     "height": 421
    },
    "id": "Dj2nusrfDXkK",
    "outputId": "c09866d2-e8d6-42e3-e5b1-f041c5ebcde5"
   },
   "outputs": [
    {
     "data": {
      "text/html": [
       "<div>\n",
       "<style scoped>\n",
       "    .dataframe tbody tr th:only-of-type {\n",
       "        vertical-align: middle;\n",
       "    }\n",
       "\n",
       "    .dataframe tbody tr th {\n",
       "        vertical-align: top;\n",
       "    }\n",
       "\n",
       "    .dataframe thead th {\n",
       "        text-align: right;\n",
       "    }\n",
       "</style>\n",
       "<table border=\"1\" class=\"dataframe\">\n",
       "  <thead>\n",
       "    <tr style=\"text-align: right;\">\n",
       "      <th></th>\n",
       "      <th>True Y=0</th>\n",
       "      <th>True Y=1</th>\n",
       "    </tr>\n",
       "  </thead>\n",
       "  <tbody>\n",
       "    <tr>\n",
       "      <th>Predicted Y=0</th>\n",
       "      <td>3013</td>\n",
       "      <td>3</td>\n",
       "    </tr>\n",
       "    <tr>\n",
       "      <th>Predicted Y=1</th>\n",
       "      <td>4</td>\n",
       "      <td>2200</td>\n",
       "    </tr>\n",
       "  </tbody>\n",
       "</table>\n",
       "</div>"
      ],
      "text/plain": [
       "               True Y=0  True Y=1\n",
       "Predicted Y=0      3013         3\n",
       "Predicted Y=1         4      2200"
      ]
     },
     "metadata": {},
     "output_type": "display_data"
    },
    {
     "name": "stdout",
     "output_type": "stream",
     "text": [
      "Accuracy (Training Set): 0.9987\n",
      "Precision (Training Set): 0.9982\n",
      "Specificity (Training Set): 0.9987\n",
      "Recall (Training Set): 0.9986\n",
      "F1-Score (Training Set): 0.9984\n",
      "AUC (Training Set): 0.9987\n"
     ]
    },
    {
     "data": {
      "text/html": [
       "<div>\n",
       "<style scoped>\n",
       "    .dataframe tbody tr th:only-of-type {\n",
       "        vertical-align: middle;\n",
       "    }\n",
       "\n",
       "    .dataframe tbody tr th {\n",
       "        vertical-align: top;\n",
       "    }\n",
       "\n",
       "    .dataframe thead th {\n",
       "        text-align: right;\n",
       "    }\n",
       "</style>\n",
       "<table border=\"1\" class=\"dataframe\">\n",
       "  <thead>\n",
       "    <tr style=\"text-align: right;\">\n",
       "      <th></th>\n",
       "      <th>True Y=0</th>\n",
       "      <th>True Y=1</th>\n",
       "    </tr>\n",
       "  </thead>\n",
       "  <tbody>\n",
       "    <tr>\n",
       "      <th>Predicted Y=0</th>\n",
       "      <td>727</td>\n",
       "      <td>34</td>\n",
       "    </tr>\n",
       "    <tr>\n",
       "      <th>Predicted Y=1</th>\n",
       "      <td>27</td>\n",
       "      <td>517</td>\n",
       "    </tr>\n",
       "  </tbody>\n",
       "</table>\n",
       "</div>"
      ],
      "text/plain": [
       "               True Y=0  True Y=1\n",
       "Predicted Y=0       727        34\n",
       "Predicted Y=1        27       517"
      ]
     },
     "metadata": {},
     "output_type": "display_data"
    },
    {
     "name": "stdout",
     "output_type": "stream",
     "text": [
      "Accuracy (Testing Set): 0.9533\n",
      "Precision (Testing Set): 0.9504\n",
      "Specificity (Testing Set): 0.9642\n",
      "Sensitivity (Testing Set): 0.9383\n",
      "F1-Score (Testing Set): 0.9443\n",
      "AUC (Testing Set): 0.9512\n"
     ]
    }
   ],
   "source": [
    "# Model with criterion='entropy', max_depth=18, max_features=11\n",
    "\n",
    "clf_en = RandomForestClassifier(n_estimators=500, random_state=0, criterion='entropy', max_depth=18, max_features=11)\n",
    "clf_en = clf_en.fit(X_train,y_train)\n",
    "y_pred_en = clf_en.predict(X_test)\n",
    "y_pred_train_en = clf_en.predict(X_train)\n",
    "cm = pd.DataFrame(confusion_matrix(y_pred_train_en, y_train))\n",
    "cm.columns = ['True Y=0','True Y=1']\n",
    "cm.index = ['Predicted Y=0','Predicted Y=1']\n",
    "display(cm)\n",
    "specificity = cm.iloc[0, 0]/(cm.iloc[0, 0] + cm.iloc[1, 0])\n",
    "print(\"Accuracy (Training Set):\",round(accuracy_score(y_train, y_pred_train_en),4))\n",
    "print('Precision (Training Set):', round(precision_score(y_train, y_pred_train_en),4))\n",
    "print('Specificity (Training Set):', round(specificity,4))\n",
    "print('Recall (Training Set):',round(recall_score(y_train,y_pred_train_en),4))\n",
    "print('F1-Score (Training Set):', round(f1_score(y_train,y_pred_train_en),4))\n",
    "print('AUC (Training Set):',round(roc_auc_score(y_train, y_pred_train_en),4))\n",
    "cm2 = pd.DataFrame(confusion_matrix(y_pred_en, y_test))\n",
    "cm2.columns = ['True Y=0','True Y=1']\n",
    "cm2.index = ['Predicted Y=0','Predicted Y=1']\n",
    "display(cm2)\n",
    "specificity2 = cm2.iloc[0, 0]/(cm2.iloc[0, 0] + cm2.iloc[1, 0])\n",
    "print(\"Accuracy (Testing Set):\", round(accuracy_score(y_test, y_pred_en),4))\n",
    "print('Precision (Testing Set):', round(precision_score(y_test, y_pred_en),4))\n",
    "print('Specificity (Testing Set):', round(specificity2,4))\n",
    "print('Sensitivity (Testing Set):', round(recall_score(y_test,y_pred_en),4))\n",
    "print('F1-Score (Testing Set):',  round(f1_score(y_test,y_pred_en),4))\n",
    "print('AUC (Testing Set):', round(roc_auc_score(y_test, y_pred_en),4))"
   ]
  },
  {
   "cell_type": "markdown",
   "metadata": {
    "id": "vERHg7_huIKJ"
   },
   "source": [
    "## Random Forest (Model 2)"
   ]
  },
  {
   "cell_type": "code",
   "execution_count": null,
   "metadata": {
    "id": "Cn_veacqvC-M"
   },
   "outputs": [],
   "source": [
    "# Concluded that the model with criterion='gini', max_depth=23, max_features=2 performs better\n",
    "clf2 = RandomForestClassifier(n_estimators=500, random_state=0, criterion='gini', max_depth=23, max_features=2)\n",
    "clf2 = clf2.fit(X_train,y_train)\n",
    "y_pred2 = clf2.predict(X_test)\n",
    "y_pred_train2 = clf2.predict(X_train)"
   ]
  },
  {
   "cell_type": "code",
   "execution_count": null,
   "metadata": {
    "colab": {
     "base_uri": "https://localhost:8080/",
     "height": 651
    },
    "id": "HxnpUAtRvP0Q",
    "outputId": "4612e175-fac7-4651-9570-e5f93ca5ad39"
   },
   "outputs": [
    {
     "data": {
      "text/html": [
       "<div>\n",
       "<style scoped>\n",
       "    .dataframe tbody tr th:only-of-type {\n",
       "        vertical-align: middle;\n",
       "    }\n",
       "\n",
       "    .dataframe tbody tr th {\n",
       "        vertical-align: top;\n",
       "    }\n",
       "\n",
       "    .dataframe thead th {\n",
       "        text-align: right;\n",
       "    }\n",
       "</style>\n",
       "<table border=\"1\" class=\"dataframe\">\n",
       "  <thead>\n",
       "    <tr style=\"text-align: right;\">\n",
       "      <th></th>\n",
       "      <th>True Y=0</th>\n",
       "      <th>True Y=1</th>\n",
       "    </tr>\n",
       "  </thead>\n",
       "  <tbody>\n",
       "    <tr>\n",
       "      <th>Predicted Y=0</th>\n",
       "      <td>3013</td>\n",
       "      <td>3</td>\n",
       "    </tr>\n",
       "    <tr>\n",
       "      <th>Predicted Y=1</th>\n",
       "      <td>4</td>\n",
       "      <td>2200</td>\n",
       "    </tr>\n",
       "  </tbody>\n",
       "</table>\n",
       "</div>"
      ],
      "text/plain": [
       "               True Y=0  True Y=1\n",
       "Predicted Y=0      3013         3\n",
       "Predicted Y=1         4      2200"
      ]
     },
     "metadata": {},
     "output_type": "display_data"
    },
    {
     "name": "stdout",
     "output_type": "stream",
     "text": [
      "Accuracy (Training Set): 0.9987\n",
      "Precision (Training Set): 0.9982\n",
      "Specificity (Training Set): 0.9987\n",
      "Recall (Training Set): 0.9986\n",
      "F1-Score (Training Set): 0.9984\n",
      "AUC (Training Set): 0.9987\n"
     ]
    },
    {
     "data": {
      "text/plain": [
       "[('international_travel_controls', 0.152),\n",
       " ('international_travel_controls_binary', 0.131),\n",
       " ('new_cases_smoothed_per_million', 0.081),\n",
       " ('new_deaths_smoothed_per_million', 0.064),\n",
       " ('life_expectancy', 0.049),\n",
       " ('median_age', 0.048),\n",
       " ('human_development_index', 0.046),\n",
       " ('gdp_per_capita', 0.044),\n",
       " ('hospital_beds_per_thousand', 0.041),\n",
       " ('aged_65_older', 0.04),\n",
       " ('diabetes_prevalence', 0.037),\n",
       " ('cardiovasc_death_rate', 0.034),\n",
       " ('population', 0.032),\n",
       " ('population_density', 0.032),\n",
       " ('facial_coverings', 0.024),\n",
       " ('restrictions_internal_movements', 0.022),\n",
       " ('school_closures', 0.021),\n",
       " ('restriction_gatherings', 0.02),\n",
       " ('income_support', 0.017),\n",
       " ('new_vaccinations_smoothed_per_million', 0.016),\n",
       " ('vaccination_policy', 0.014),\n",
       " ('testing_policy', 0.014),\n",
       " ('cancel_public_events', 0.011),\n",
       " ('contact_tracing', 0.011)]"
      ]
     },
     "execution_count": 152,
     "metadata": {},
     "output_type": "execute_result"
    }
   ],
   "source": [
    "cm = pd.DataFrame(confusion_matrix(y_pred_train2, y_train))\n",
    "cm.columns = ['True Y=0','True Y=1']\n",
    "cm.index = ['Predicted Y=0','Predicted Y=1']\n",
    "display(cm)\n",
    "specificity = cm.iloc[0, 0]/(cm.iloc[0, 0] + cm.iloc[1, 0])\n",
    "print(\"Accuracy (Training Set):\",round(accuracy_score(y_train, y_pred_train),4))\n",
    "print('Precision (Training Set):', round(precision_score(y_train, y_pred_train),4))\n",
    "print('Specificity (Training Set):', round(specificity,4))\n",
    "print('Recall (Training Set):',round(recall_score(y_train,y_pred_train),4))\n",
    "print('F1-Score (Training Set):', round(f1_score(y_train,y_pred_train),4))\n",
    "print('AUC (Training Set):',round(roc_auc_score(y_train, y_pred_train),4))\n",
    "feature_imp(clf2)"
   ]
  },
  {
   "cell_type": "code",
   "execution_count": null,
   "metadata": {
    "colab": {
     "base_uri": "https://localhost:8080/",
     "height": 651
    },
    "id": "ibc34weMvXOL",
    "outputId": "7dd73184-58e4-424b-f34b-2d6b67e8ca30"
   },
   "outputs": [
    {
     "data": {
      "text/html": [
       "<div>\n",
       "<style scoped>\n",
       "    .dataframe tbody tr th:only-of-type {\n",
       "        vertical-align: middle;\n",
       "    }\n",
       "\n",
       "    .dataframe tbody tr th {\n",
       "        vertical-align: top;\n",
       "    }\n",
       "\n",
       "    .dataframe thead th {\n",
       "        text-align: right;\n",
       "    }\n",
       "</style>\n",
       "<table border=\"1\" class=\"dataframe\">\n",
       "  <thead>\n",
       "    <tr style=\"text-align: right;\">\n",
       "      <th></th>\n",
       "      <th>True Y=0</th>\n",
       "      <th>True Y=1</th>\n",
       "    </tr>\n",
       "  </thead>\n",
       "  <tbody>\n",
       "    <tr>\n",
       "      <th>Predicted Y=0</th>\n",
       "      <td>733</td>\n",
       "      <td>39</td>\n",
       "    </tr>\n",
       "    <tr>\n",
       "      <th>Predicted Y=1</th>\n",
       "      <td>21</td>\n",
       "      <td>512</td>\n",
       "    </tr>\n",
       "  </tbody>\n",
       "</table>\n",
       "</div>"
      ],
      "text/plain": [
       "               True Y=0  True Y=1\n",
       "Predicted Y=0       733        39\n",
       "Predicted Y=1        21       512"
      ]
     },
     "metadata": {},
     "output_type": "display_data"
    },
    {
     "name": "stdout",
     "output_type": "stream",
     "text": [
      "Accuracy (Testing Set): 0.954\n",
      "Precision (Testing Set): 0.9606\n",
      "Specificity (Testing Set): 0.9721\n",
      "Sensitivity (Testing Set): 0.9292\n",
      "F1-Score (Testing Set): 0.9446\n",
      "AUC (Testing Set): 0.9507\n"
     ]
    },
    {
     "data": {
      "text/plain": [
       "[('international_travel_controls', 0.152),\n",
       " ('international_travel_controls_binary', 0.131),\n",
       " ('new_cases_smoothed_per_million', 0.081),\n",
       " ('new_deaths_smoothed_per_million', 0.064),\n",
       " ('life_expectancy', 0.049),\n",
       " ('median_age', 0.048),\n",
       " ('human_development_index', 0.046),\n",
       " ('gdp_per_capita', 0.044),\n",
       " ('hospital_beds_per_thousand', 0.041),\n",
       " ('aged_65_older', 0.04),\n",
       " ('diabetes_prevalence', 0.037),\n",
       " ('cardiovasc_death_rate', 0.034),\n",
       " ('population', 0.032),\n",
       " ('population_density', 0.032),\n",
       " ('facial_coverings', 0.024),\n",
       " ('restrictions_internal_movements', 0.022),\n",
       " ('school_closures', 0.021),\n",
       " ('restriction_gatherings', 0.02),\n",
       " ('income_support', 0.017),\n",
       " ('new_vaccinations_smoothed_per_million', 0.016),\n",
       " ('vaccination_policy', 0.014),\n",
       " ('testing_policy', 0.014),\n",
       " ('cancel_public_events', 0.011),\n",
       " ('contact_tracing', 0.011)]"
      ]
     },
     "execution_count": 153,
     "metadata": {},
     "output_type": "execute_result"
    }
   ],
   "source": [
    "cm2 = pd.DataFrame(confusion_matrix(y_pred2, y_test))\n",
    "cm2.columns = ['True Y=0','True Y=1']\n",
    "cm2.index = ['Predicted Y=0','Predicted Y=1']\n",
    "display(cm2)\n",
    "specificity2 = cm2.iloc[0, 0]/(cm2.iloc[0, 0] + cm2.iloc[1, 0])\n",
    "print(\"Accuracy (Testing Set):\", round(accuracy_score(y_test, y_pred2),4))\n",
    "print('Precision (Testing Set):', round(precision_score(y_test, y_pred2),4))\n",
    "print('Specificity (Testing Set):', round(specificity2,4))\n",
    "print('Sensitivity (Testing Set):', round(recall_score(y_test,y_pred2),4))\n",
    "print('F1-Score (Testing Set):',  round(f1_score(y_test,y_pred2),4))\n",
    "print('AUC (Testing Set):', round(roc_auc_score(y_test, y_pred2),4))\n",
    "feature_imp(clf2)"
   ]
  },
  {
   "cell_type": "markdown",
   "metadata": {
    "id": "CWdwPm1svi9D"
   },
   "source": [
    "## Random Forest (Predictions)"
   ]
  },
  {
   "cell_type": "code",
   "execution_count": null,
   "metadata": {
    "colab": {
     "base_uri": "https://localhost:8080/"
    },
    "id": "oTscYn5MOhaO",
    "outputId": "58ec59e7-2ad1-417c-d19a-4c236990b777"
   },
   "outputs": [
    {
     "data": {
      "text/plain": [
       "['school_closures',\n",
       " 'international_travel_controls',\n",
       " 'restriction_gatherings',\n",
       " 'cancel_public_events',\n",
       " 'restrictions_internal_movements',\n",
       " 'income_support',\n",
       " 'facial_coverings',\n",
       " 'vaccination_policy',\n",
       " 'testing_policy',\n",
       " 'contact_tracing',\n",
       " 'new_cases_smoothed_per_million',\n",
       " 'new_deaths_smoothed_per_million',\n",
       " 'new_vaccinations_smoothed_per_million',\n",
       " 'population',\n",
       " 'population_density',\n",
       " 'median_age',\n",
       " 'aged_65_older',\n",
       " 'gdp_per_capita',\n",
       " 'cardiovasc_death_rate',\n",
       " 'diabetes_prevalence',\n",
       " 'hospital_beds_per_thousand',\n",
       " 'life_expectancy',\n",
       " 'human_development_index',\n",
       " 'international_travel_controls_binary']"
      ]
     },
     "execution_count": 154,
     "metadata": {},
     "output_type": "execute_result"
    }
   ],
   "source": [
    "df = pd.read_csv(io.BytesIO(uploaded['2aug.csv']), usecols=range(3,29)) #remove 1st to third column\n",
    "allcols = df.columns.tolist()\n",
    "feature_cols = allcols.copy()\n",
    "feature_cols.remove(\"Date\")\n",
    "feature_cols.remove(\"public_information_campaigns\")\n",
    "\n",
    "x = df[feature_cols]\n",
    "feature_cols"
   ]
  },
  {
   "cell_type": "code",
   "execution_count": null,
   "metadata": {
    "colab": {
     "base_uri": "https://localhost:8080/"
    },
    "id": "cNLa7mPtvi9F",
    "outputId": "284be2bb-2243-4940-f6e8-d11c74cbff61"
   },
   "outputs": [
    {
     "data": {
      "text/plain": [
       "array([1, 1, 0, 0, 0, 0, 1, 0, 0, 1, 1, 0, 1, 1, 0, 0, 1, 1, 1, 0, 0, 1,\n",
       "       1, 1, 1, 0, 1, 0, 1, 1, 1, 1, 0, 0, 1, 0, 1, 0, 1, 1, 1, 0, 0, 0,\n",
       "       1, 1, 0, 1, 0, 1, 1, 0, 1, 0, 0, 0, 0, 0, 1, 0, 0, 0, 1, 0, 0, 0,\n",
       "       1, 0, 1, 1, 1, 1, 1, 1, 0, 0, 1, 1, 0, 0, 1, 1, 0, 1, 1, 0, 1, 0,\n",
       "       0, 1, 1, 1, 1, 1, 0, 1, 0, 0, 1, 0, 0, 0, 0, 1, 0, 0, 1, 1, 1, 1,\n",
       "       0, 1, 0, 0, 0, 0, 1, 0, 0, 0, 1, 1, 1, 0, 0, 0, 0, 0, 0, 0, 1, 1])"
      ]
     },
     "execution_count": 155,
     "metadata": {},
     "output_type": "execute_result"
    }
   ],
   "source": [
    "y_pred_aug = clf2.predict(x)\n",
    "y_pred_aug"
   ]
  },
  {
   "cell_type": "code",
   "execution_count": null,
   "metadata": {
    "colab": {
     "base_uri": "https://localhost:8080/",
     "height": 527
    },
    "id": "jxgwARAkvi9F",
    "outputId": "2cac1882-40e0-4111-fb88-6636028a5fae"
   },
   "outputs": [
    {
     "name": "stderr",
     "output_type": "stream",
     "text": [
      "/usr/local/lib/python3.7/dist-packages/ipykernel_launcher.py:2: SettingWithCopyWarning: \n",
      "A value is trying to be set on a copy of a slice from a DataFrame.\n",
      "Try using .loc[row_indexer,col_indexer] = value instead\n",
      "\n",
      "See the caveats in the documentation: https://pandas.pydata.org/pandas-docs/stable/user_guide/indexing.html#returning-a-view-versus-a-copy\n",
      "  \n"
     ]
    },
    {
     "data": {
      "text/html": [
       "<div>\n",
       "<style scoped>\n",
       "    .dataframe tbody tr th:only-of-type {\n",
       "        vertical-align: middle;\n",
       "    }\n",
       "\n",
       "    .dataframe tbody tr th {\n",
       "        vertical-align: top;\n",
       "    }\n",
       "\n",
       "    .dataframe thead th {\n",
       "        text-align: right;\n",
       "    }\n",
       "</style>\n",
       "<table border=\"1\" class=\"dataframe\">\n",
       "  <thead>\n",
       "    <tr style=\"text-align: right;\">\n",
       "      <th></th>\n",
       "      <th>country</th>\n",
       "      <th>prediction</th>\n",
       "    </tr>\n",
       "  </thead>\n",
       "  <tbody>\n",
       "    <tr>\n",
       "      <th>0</th>\n",
       "      <td>Afghanistan</td>\n",
       "      <td>1</td>\n",
       "    </tr>\n",
       "    <tr>\n",
       "      <th>1</th>\n",
       "      <td>Albania</td>\n",
       "      <td>1</td>\n",
       "    </tr>\n",
       "    <tr>\n",
       "      <th>2</th>\n",
       "      <td>Argentina</td>\n",
       "      <td>0</td>\n",
       "    </tr>\n",
       "    <tr>\n",
       "      <th>3</th>\n",
       "      <td>Australia</td>\n",
       "      <td>0</td>\n",
       "    </tr>\n",
       "    <tr>\n",
       "      <th>4</th>\n",
       "      <td>Austria</td>\n",
       "      <td>0</td>\n",
       "    </tr>\n",
       "    <tr>\n",
       "      <th>...</th>\n",
       "      <td>...</td>\n",
       "      <td>...</td>\n",
       "    </tr>\n",
       "    <tr>\n",
       "      <th>127</th>\n",
       "      <td>Uzbekistan</td>\n",
       "      <td>0</td>\n",
       "    </tr>\n",
       "    <tr>\n",
       "      <th>128</th>\n",
       "      <td>Venezuela</td>\n",
       "      <td>0</td>\n",
       "    </tr>\n",
       "    <tr>\n",
       "      <th>129</th>\n",
       "      <td>Vietnam</td>\n",
       "      <td>0</td>\n",
       "    </tr>\n",
       "    <tr>\n",
       "      <th>130</th>\n",
       "      <td>Zambia</td>\n",
       "      <td>1</td>\n",
       "    </tr>\n",
       "    <tr>\n",
       "      <th>131</th>\n",
       "      <td>Zimbabwe</td>\n",
       "      <td>1</td>\n",
       "    </tr>\n",
       "  </tbody>\n",
       "</table>\n",
       "<p>132 rows × 2 columns</p>\n",
       "</div>"
      ],
      "text/plain": [
       "         country  prediction\n",
       "0    Afghanistan           1\n",
       "1        Albania           1\n",
       "2      Argentina           0\n",
       "3      Australia           0\n",
       "4        Austria           0\n",
       "..           ...         ...\n",
       "127   Uzbekistan           0\n",
       "128    Venezuela           0\n",
       "129      Vietnam           0\n",
       "130       Zambia           1\n",
       "131     Zimbabwe           1\n",
       "\n",
       "[132 rows x 2 columns]"
      ]
     },
     "execution_count": 156,
     "metadata": {},
     "output_type": "execute_result"
    }
   ],
   "source": [
    "countries = pd.read_csv(io.BytesIO(uploaded['2aug.csv']))['Entity']\n",
    "x['country'] = countries\n",
    "x['prediction'] = y_pred_aug\n",
    "predictions = x[['country', 'prediction']]\n",
    "predictions"
   ]
  },
  {
   "cell_type": "code",
   "execution_count": null,
   "metadata": {
    "id": "NGj6tpHgvi9F"
   },
   "outputs": [],
   "source": [
    "predictions.to_csv('2augpred.csv')"
   ]
  }
 ],
 "metadata": {
  "colab": {
   "name": "random_forest.ipynb",
   "provenance": []
  },
  "kernelspec": {
   "display_name": "Python 3",
   "language": "python",
   "name": "python3"
  },
  "language_info": {
   "codemirror_mode": {
    "name": "ipython",
    "version": 3
   },
   "file_extension": ".py",
   "mimetype": "text/x-python",
   "name": "python",
   "nbconvert_exporter": "python",
   "pygments_lexer": "ipython3",
   "version": "3.7.6"
  }
 },
 "nbformat": 4,
 "nbformat_minor": 5
}
